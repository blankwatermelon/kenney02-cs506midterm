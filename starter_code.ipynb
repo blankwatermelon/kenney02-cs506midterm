{
 "cells": [
  {
   "cell_type": "markdown",
   "metadata": {},
   "source": [
    "# Libraries"
   ]
  },
  {
   "cell_type": "code",
   "execution_count": 46,
   "metadata": {},
   "outputs": [
    {
     "name": "stdout",
     "output_type": "stream",
     "text": [
      "INFO: Pandarallel will run on 8 workers.\n",
      "INFO: Pandarallel will use standard multiprocessing data transfer (pipe) to transfer data between the main process and workers.\n",
      "\n",
      "WARNING: You are on Windows. If you detect any issue with pandarallel, be sure you checked out the Troubleshooting page:\n",
      "https://nalepae.github.io/pandarallel/troubleshooting/\n"
     ]
    }
   ],
   "source": [
    "import pickle\n",
    "import pandas as pd\n",
    "import seaborn as sns\n",
    "from os.path import exists\n",
    "import matplotlib.pyplot as plt\n",
    "from pandarallel import pandarallel\n",
    "from sklearn.neighbors import KNeighborsClassifier\n",
    "from sklearn.model_selection import train_test_split\n",
    "from sklearn.metrics import accuracy_score, confusion_matrix\n",
    "from vaderSentiment.vaderSentiment import SentimentIntensityAnalyzer\n",
    "\n",
    "\n",
    "# Initialize VADER sentiment analyzer\n",
    "analyzer = SentimentIntensityAnalyzer()\n",
    "pandarallel.initialize()\n",
    "\n"
   ]
  },
  {
   "cell_type": "code",
   "execution_count": 91,
   "metadata": {},
   "outputs": [],
   "source": [
    "negative_words = [\n",
    "    \"bad\", \"poor\", \"terrible\", \"disappointing\", \"awful\", \"worst\", \"horrible\", \"unreliable\", \"waste\", \n",
    "    \"garbage\", \"junk\", \"cheap\", \"flimsy\", \"broken\", \"useless\", \"defective\", \"faulty\", \"fake\", \"boring\",\n",
    "    \"dull\", \"slow\", \"overpriced\", \"lame\", \"unwatchable\", \"predictable\", \"annoying\", \"inconsistent\",\n",
    "    \"ridiculous\", \"mediocre\", \"unrealistic\", \"forgettable\", \"underwhelming\", \"unconvincing\", \"cliché\",\n",
    "    \"overrated\", \"overdone\", \"painful\", \"lengthy\", \"disgusting\", \"frustrating\", \"repetitive\", \"predictable\",\n",
    "    \"awkward\", \"cringe\", \"stupid\", \"hated\", \"inadequate\", \"pointless\", \"gross\", \"unpleasant\", \"disturbing\",\n",
    "    \"misleading\", \"regret\", \"boring\", \"lazy\", \"dated\", \"clunky\", \"dysfunctional\", \"cheaply-made\",\n",
    "    \"underdeveloped\", \"forgettable\", \"shallow\", \"weak\", \"annoyed\", \"unpolished\", \"horrendous\", \"unappealing\",\n",
    "    \"lackluster\", \"problematic\", \"flawed\", \"annoy\", \"predictable\", \"cheesy\", \"cringe\", \"unbelievable\",\n",
    "    \"nonsense\", \"overblown\", \"confusing\", \"shoddy\", \"stiff\", \"exaggerated\", \"excessive\", \"worthless\",\n",
    "    \"unacceptable\", \"pathetic\", \"crappy\", \"sucks\", \"sucked\", \"shit\", \"bullshit\", \"crap\", \"damn\", \"damned\",\n",
    "    \"fucking\", \"fuck\", \"hell\", \"pissed\", \"ass\", \"bastard\", \"idiot\", \"idiotic\", \"dumb\", \"moron\", \"trash\",\n",
    "    \"shitty\", \"fucked\", \"loser\", \"garbage\", \"pathetic\", \"disgusted\", \"repulsive\", \"abysmal\", \"horrid\",\n",
    "    \"gross\", \"foul\", \"atrocious\", \"miserable\", \"deplorable\", \"scam\", \"rip-off\", \"useless\", \"failure\"\n",
    "]\n",
    "\n",
    "neutral_words = [\n",
    "    \"average\", \"okay\", \"fine\", \"decent\", \"standard\", \"basic\", \"sufficient\", \n",
    "    \"acceptable\", \"moderate\", \"typical\", \"ordinary\", \"regular\", \"normal\", \n",
    "    \"adequate\", \"functional\", \"usable\", \"workable\", \"plain\", \"fair\", \n",
    "    \"serviceable\", \"similar\", \"comparable\", \"parallel\", \"equal\", \"equivalent\",\n",
    "    \"unremarkable\", \"uninspired\", \"plain\", \"middle\", \"middling\", \n",
    "    \"intermediate\", \"recent\", \"current\", \"ongoing\", \"modern\", \"medium\", \n",
    "    \"average-sized\", \"mid-sized\", \"standard-sized\", \"several\", \"some\", \n",
    "    \"a few\", \"various\", \"manageable\", \"satisfactory\", \"sufficient\", \n",
    "    \"adequate\", \"mild\", \"moderate\", \"restrained\", \"controlled\", \n",
    "    \"limited\", \"steady\", \"indifferent\", \"unbiased\", \"objective\", \"neutral\", \n",
    "    \"balanced\", \"consistent\", \"predictable\", \"stable\", \"even\", \"balanced\",\n",
    "    \"usual\", \"customary\", \"routine\", \"normal\", \"regular\"\n",
    "]\n",
    "\n"
   ]
  },
  {
   "cell_type": "markdown",
   "metadata": {},
   "source": [
    "# Loading the Files\n",
    "\n",
    "Download the csv files into the `data/` directory."
   ]
  },
  {
   "cell_type": "code",
   "execution_count": 3,
   "metadata": {},
   "outputs": [
    {
     "name": "stdout",
     "output_type": "stream",
     "text": [
      "train.csv shape is  (1697533, 9)\n",
      "test.csv shape is  (212192, 2)\n",
      "\n",
      "        Id   ProductId          UserId  HelpfulnessNumerator  \\\n",
      "0   914403  B0009W5KHM   AV6QDP8Q0ONK4                     2   \n",
      "1   354887  6303079709  A2I8RXJN80A2D2                     0   \n",
      "2  1407653  B004H0M2XC  A3FHV3RV8Z12E6                     0   \n",
      "3  1377458  B003ZJ9536  A12VLTA3ZHVPUY                     1   \n",
      "4   475323  630574453X  A13NM1PES9OXVN                     2   \n",
      "\n",
      "   HelpfulnessDenominator        Time  \\\n",
      "0                       2  1341014400   \n",
      "1                       0  1168819200   \n",
      "2                       0  1386201600   \n",
      "3                       1  1348704000   \n",
      "4                       3   970012800   \n",
      "\n",
      "                                         Summary  \\\n",
      "0                                  GOOD FUN FILM   \n",
      "1                                   Movie Review   \n",
      "2             When is it a good time to Consent?   \n",
      "3                                          TRUTH   \n",
      "4  Intelligent and bittersweet -- stays with you   \n",
      "\n",
      "                                                Text  Score  \n",
      "0  While most straight to DVD films are not worth...    5.0  \n",
      "1  I have wanted this one for sometime, also.  I ...    5.0  \n",
      "2  Actually this was a pretty darn good indie fil...    4.0  \n",
      "3  Episodes 37 to 72 of the series press on in a ...    5.0  \n",
      "4  I was really impressed with this movie, but wa...    3.0  \n",
      "\n",
      "        Id  Score\n",
      "0  1323432    NaN\n",
      "1  1137299    NaN\n",
      "2  1459366    NaN\n",
      "3   931601    NaN\n",
      "4  1311995    NaN\n",
      "\n",
      "                 Id  HelpfulnessNumerator  HelpfulnessDenominator  \\\n",
      "count  1.697533e+06          1.697533e+06            1.697533e+06   \n",
      "mean   8.487660e+05          3.569048e+00            5.301422e+00   \n",
      "std    4.900357e+05          1.727883e+01            2.024445e+01   \n",
      "min    0.000000e+00          0.000000e+00            0.000000e+00   \n",
      "25%    4.243830e+05          0.000000e+00            0.000000e+00   \n",
      "50%    8.487660e+05          1.000000e+00            1.000000e+00   \n",
      "75%    1.273149e+06          3.000000e+00            5.000000e+00   \n",
      "max    1.697532e+06          6.084000e+03            6.510000e+03   \n",
      "\n",
      "               Time         Score  \n",
      "count  1.697533e+06  1.485341e+06  \n",
      "mean   1.262422e+09  4.110517e+00  \n",
      "std    1.289277e+08  1.197651e+00  \n",
      "min    8.793792e+08  1.000000e+00  \n",
      "25%    1.164413e+09  4.000000e+00  \n",
      "50%    1.307491e+09  5.000000e+00  \n",
      "75%    1.373242e+09  5.000000e+00  \n",
      "max    1.406074e+09  5.000000e+00  \n"
     ]
    },
    {
     "data": {
      "image/png": "[encoded data removed]",
      "text/plain": [
       "<Figure size 640x480 with 1 Axes>"
      ]
     },
     "metadata": {},
     "output_type": "display_data"
    },
    {
     "name": "stdout",
     "output_type": "stream",
     "text": [
      "\n",
      "EVERYTHING IS PROPERLY SET UP! YOU ARE READY TO START\n"
     ]
    }
   ],
   "source": [
    "trainingSet = pd.read_csv(\"./data/train.csv\")\n",
    "testingSet = pd.read_csv(\"./data/test.csv\")\n",
    "\n",
    "print(\"train.csv shape is \", trainingSet.shape)\n",
    "print(\"test.csv shape is \", testingSet.shape)\n",
    "\n",
    "print()\n",
    "\n",
    "print(trainingSet.head())\n",
    "print()\n",
    "print(testingSet.head())\n",
    "\n",
    "print()\n",
    "\n",
    "print(trainingSet.describe())\n",
    "\n",
    "trainingSet['Score'].value_counts().plot(kind='bar', legend=True, alpha=.5)\n",
    "plt.show()\n",
    "\n",
    "print()\n",
    "print(\"EVERYTHING IS PROPERLY SET UP! YOU ARE READY TO START\")"
   ]
  },
  {
   "cell_type": "markdown",
   "metadata": {},
   "source": [
    "# Adding Features"
   ]
  },
  {
   "cell_type": "code",
   "execution_count": 120,
   "metadata": {},
   "outputs": [],
   "source": [
    "def add_features_to(df):\n",
    "    # This is where you can do all your feature extraction\n",
    "\n",
    "    df['Helpfulness'] = df['HelpfulnessNumerator'] / df['HelpfulnessDenominator']\n",
    "    df['Helpfulness'] = df['Helpfulness'].fillna(0)\n",
    "\n",
    "    # Ensure the 'Text' column has no non-string values (replace NaN or float with an empty string)\n",
    "    df['Text'] = df['Text'].fillna('').astype(str)\n",
    "\n",
    "    # Add VADER Sentiment Score (compound) as a continuous feature\n",
    "    df['VADER_Sentiment'] = df['Text'].parallel_apply(lambda x: analyzer.polarity_scores(x)['compound'])\n",
    "    \n",
    "    # Add Predicted Sentiment (binary) as a feature\n",
    "    df['Predicted_Sentiment'] = df['VADER_Sentiment'].parallel_apply(lambda score: 1 if score > 0 else 0)\n",
    "\n",
    "    df['Negative_Word_Count'] = df['Text'].parallel_apply(lambda x: sum(1 for word in x.split() if word.lower() in negative_words))\n",
    "\n",
    "    df['Sample_Weight'] = df['Negative_Word_Count'].parallel_apply(lambda x: 2 if x > 0 else 1)\n",
    "\n",
    "\n",
    "    return df\n",
    "\n",
    "# Load the feature extracted files if they've already been generated\n",
    "if exists('./data/X_train.csv'):\n",
    "    X_train = pd.read_csv(\"./data/X_train.csv\")\n",
    "if exists('./data/X_submission.csv'):\n",
    "    X_submission = pd.read_csv(\"./data/X_submission.csv\")\n",
    "\n",
    "else:\n",
    "    # Process the DataFrame\n",
    "    train = add_features_to(trainingSet)\n",
    "\n",
    "    # Merge on Id so that the submission set can have feature columns as well\n",
    "    X_submission = pd.merge(train, testingSet, left_on='Id', right_on='Id')\n",
    "    X_submission = X_submission.drop(columns=['Score_x'])\n",
    "    X_submission = X_submission.rename(columns={'Score_y': 'Score'})\n",
    "\n",
    "    # The training set is where the score is not null\n",
    "    X_train =  train[train['Score'].notnull()]\n",
    "\n",
    "    X_submission.to_csv(\"./data/X_submission.csv\", index=False)\n",
    "    X_train.to_csv(\"./data/X_train.csv\", index=False)"
   ]
  },
  {
   "cell_type": "code",
   "execution_count": 121,
   "metadata": {},
   "outputs": [
    {
     "name": "stdout",
     "output_type": "stream",
     "text": [
      "Index(['Id', 'ProductId', 'UserId', 'HelpfulnessNumerator',\n",
      "       'HelpfulnessDenominator', 'Time', 'Summary', 'Text', 'Score',\n",
      "       'Helpfulness', 'VADER_Sentiment', 'Predicted_Sentiment',\n",
      "       'Negative_Word_Count', 'Sample_Weight', 'Predicted_Negative',\n",
      "       'Predicted_Neutral', 'Predicted_Positive'],\n",
      "      dtype='object')\n",
      "Index(['Id', 'ProductId', 'UserId', 'HelpfulnessNumerator',\n",
      "       'HelpfulnessDenominator', 'Time', 'Summary', 'Text', 'Helpfulness',\n",
      "       'VADER_Sentiment', 'Predicted_Sentiment', 'Negative_Word_Count',\n",
      "       'Sample_Weight', 'Score', 'Predicted_Negative', 'Predicted_Neutral',\n",
      "       'Predicted_Positive'],\n",
      "      dtype='object')\n"
     ]
    }
   ],
   "source": [
    "X_train['Predicted_Negative'] = X_train['VADER_Sentiment'].parallel_apply(lambda x: 1 if x < -0.3 else 0)\n",
    "X_train['Predicted_Neutral'] = X_train['VADER_Sentiment'].parallel_apply(lambda x: 1 if -0.3 <= x <= 0.3 else 0)\n",
    "X_train['Predicted_Positive'] = X_train['VADER_Sentiment'].parallel_apply(lambda x: 1 if x > 0.3 else 0)\n",
    "\n",
    "X_submission['Predicted_Negative'] = X_submission['VADER_Sentiment'].parallel_apply(lambda x: 1 if x < -0.3 else 0)\n",
    "X_submission['Predicted_Neutral'] = X_submission['VADER_Sentiment'].parallel_apply(lambda x: 1 if -0.3 <= x <= 0.3 else 0)\n",
    "X_submission['Predicted_Positive'] = X_submission['VADER_Sentiment'].parallel_apply(lambda x: 1 if x > 0.3 else 0)\n",
    "\n",
    "\n",
    "\n",
    "\n",
    "print(X_train.columns)\n",
    "print(X_submission.columns)"
   ]
  },
  {
   "cell_type": "code",
   "execution_count": 122,
   "metadata": {},
   "outputs": [],
   "source": [
    "X_train['Text'] = X_train['Text'].fillna('').astype(str)\n",
    "X_submission['Text'] = X_submission['Text'].fillna('').astype(str)\n",
    "\n",
    "X_train['Neutral_Word_Count'] = X_train['Text'].apply(lambda x: sum(1 for word in x.split() if word.lower() in neutral_words))\n",
    "X_submission['Neutral_Word_Count'] = X_submission['Text'].apply(lambda x: sum(1 for word in x.split() if word.lower() in neutral_words))"
   ]
  },
  {
   "cell_type": "code",
   "execution_count": 123,
   "metadata": {},
   "outputs": [
    {
     "name": "stdout",
     "output_type": "stream",
     "text": [
      "The 'Score' column is in X_train.\n"
     ]
    }
   ],
   "source": [
    "if 'Score' in X_train.columns:\n",
    "    print(\"The 'Score' column is in X_train.\")\n",
    "else:\n",
    "    print(\"The 'Score' column is not in X_train.\")\n"
   ]
  },
  {
   "cell_type": "markdown",
   "metadata": {},
   "source": [
    "# Sample + Split into training and testing set"
   ]
  },
  {
   "cell_type": "code",
   "execution_count": 124,
   "metadata": {},
   "outputs": [],
   "source": [
    "# Split training set into training and testing set\n",
    "X_train, X_test, Y_train, Y_test = train_test_split(\n",
    "    X_train.drop(columns=['Score']),\n",
    "    X_train['Score'],\n",
    "    test_size=1/4.0,\n",
    "    random_state=0\n",
    ")"
   ]
  },
  {
   "cell_type": "markdown",
   "metadata": {},
   "source": [
    "# Feature Selection"
   ]
  },
  {
   "cell_type": "code",
   "execution_count": 125,
   "metadata": {},
   "outputs": [],
   "source": [
    "features = ['HelpfulnessNumerator', 'HelpfulnessDenominator', 'Helpfulness', 'VADER_Sentiment', 'Negative_Word_Count', 'Predicted_Neutral', 'Predicted_Positive','Predicted_Negative', 'Neutral_Word_Count']\n",
    "\n",
    "X_train_select = X_train[features]\n",
    "X_test_select = X_test[features]\n",
    "X_submission_select = X_submission[features]\n",
    "\n",
    "# Scale the data for knn\n",
    "from sklearn.preprocessing import StandardScaler\n",
    "\n",
    "scaler = StandardScaler()\n",
    "X_train_scaled = scaler.fit_transform(X_train_select)\n",
    "X_test_scaled = scaler.transform(X_test_select)\n",
    "X_submission_scaled = scaler.transform(X_submission_select)\n"
   ]
  },
  {
   "cell_type": "markdown",
   "metadata": {},
   "source": [
    "# Model Creation"
   ]
  },
  {
   "cell_type": "code",
   "execution_count": null,
   "metadata": {},
   "outputs": [],
   "source": [
    "from sklearn.neighbors import KNeighborsClassifier\n",
    "from sklearn.model_selection import cross_val_score\n",
    "import matplotlib.pyplot as plt\n",
    "\n",
    "# Range of k values to test\n",
    "k_values = range(1, 500)\n",
    "scores = []\n",
    "\n",
    "# Loop over each k\n",
    "for k in k_values:\n",
    "    # Initialize the model with the current k\n",
    "    knn = KNeighborsClassifier(n_neighbors=k)\n",
    "    \n",
    "    # Perform cross-validation (e.g., 5-fold) and calculate the average score\n",
    "    # Use scoring='accuracy' for classification problems\n",
    "    score = cross_val_score(knn, X_train_select, Y_train, cv=5, scoring='accuracy').mean()\n",
    "    scores.append(score)\n",
    "\n",
    "# Plot the results to visualize the best k\n",
    "plt.plot(k_values, scores, marker='o')\n",
    "plt.xlabel(\"Number of Neighbors (k)\")\n",
    "plt.ylabel(\"Cross-Validated Accuracy\")\n",
    "plt.title(\"Choosing the Best k for KNN\")\n",
    "plt.show()\n",
    "\n",
    "# Find the k with the highest average score\n",
    "best_k = k_values[scores.index(max(scores))]\n",
    "print(f\"The best k value is: {best_k} with accuracy {max(scores):.2f}\")\n"
   ]
  },
  {
   "cell_type": "code",
   "execution_count": 130,
   "metadata": {},
   "outputs": [
    {
     "name": "stderr",
     "output_type": "stream",
     "text": [
      "c:\\Users\\PC\\AppData\\Local\\Programs\\Python\\Python313\\Lib\\site-packages\\sklearn\\base.py:486: UserWarning: X has feature names, but KNeighborsClassifier was fitted without feature names\n",
      "  warnings.warn(\n"
     ]
    },
    {
     "ename": "",
     "evalue": "",
     "output_type": "error",
     "traceback": [
      "\u001b[1;31mCannot execute code, session has been disposed. Please try restarting the Kernel."
     ]
    },
    {
     "ename": "",
     "evalue": "",
     "output_type": "error",
     "traceback": [
      "\u001b[1;31mCannot execute code, session has been disposed. Please try restarting the Kernel. \n",
      "\u001b[1;31mView Jupyter <a href='command:jupyter.viewOutput'>log</a> for further details."
     ]
    }
   ],
   "source": [
    "# Learn the model\n",
    "model = KNeighborsClassifier(n_neighbors=100).fit(X_train_scaled, Y_train)\n",
    "\n",
    "# Predict the score using the model\n",
    "Y_test_predictions = model.predict(X_test_scaled)"
   ]
  },
  {
   "cell_type": "markdown",
   "metadata": {},
   "source": [
    "# Model Evaluation"
   ]
  },
  {
   "cell_type": "code",
   "execution_count": 127,
   "metadata": {},
   "outputs": [
    {
     "name": "stdout",
     "output_type": "stream",
     "text": [
      "Accuracy on testing set =  0.5610040502402137\n"
     ]
    },
    {
     "data": {
      "image/png": "[encoded data removed]",
      "text/plain": [
       "<Figure size 640x480 with 2 Axes>"
      ]
     },
     "metadata": {},
     "output_type": "display_data"
    }
   ],
   "source": [
    "# Evaluate your model on the testing set\n",
    "print(\"Accuracy on testing set = \", accuracy_score(Y_test, Y_test_predictions))\n",
    "\n",
    "# Plot a confusion matrix\n",
    "cm = confusion_matrix(Y_test, Y_test_predictions, normalize='true')\n",
    "sns.heatmap(cm, annot=True)\n",
    "plt.title('Confusion matrix of the classifier')\n",
    "plt.xlabel('Predicted')\n",
    "plt.ylabel('True')\n",
    "plt.show()"
   ]
  },
  {
   "cell_type": "markdown",
   "metadata": {},
   "source": [
    "# Create submission file"
   ]
  },
  {
   "cell_type": "code",
   "execution_count": 11,
   "metadata": {},
   "outputs": [],
   "source": [
    "# Create the submission file\n",
    "X_submission['Score'] = model.predict(X_submission_select)\n",
    "submission = X_submission[['Id', 'Score']]\n",
    "submission.to_csv(\"./data/submission.csv\", index=False)"
   ]
  }
 ],
 "metadata": {
  "kernelspec": {
   "display_name": "Python 3",
   "language": "python",
   "name": "python3"
  },
  "language_info": {
   "codemirror_mode": {
    "name": "ipython",
    "version": 3
   },
   "file_extension": ".py",
   "mimetype": "text/x-python",
   "name": "python",
   "nbconvert_exporter": "python",
   "pygments_lexer": "ipython3",
   "version": "3.13.0"
  }
 },
 "nbformat": 4,
 "nbformat_minor": 2
}
